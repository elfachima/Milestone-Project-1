{
 "cells": [
  {
   "cell_type": "code",
   "execution_count": 984,
   "id": "bd5773ea",
   "metadata": {},
   "outputs": [
    {
     "name": "stdout",
     "output_type": "stream",
     "text": [
      "Use your numpad as a location guide\n",
      "\n",
      "    [7, 8, 9] \n",
      "    [4, 5, 6] \n",
      "    [1, 2, 3] \n",
      "\n",
      "\n",
      "    S T A R T\n",
      " [' ', ' ', ' '] \n",
      " [' ', ' ', ' '] \n",
      " [' ', ' ', ' ']\n"
     ]
    }
   ],
   "source": [
    "#### Step 1: Write a function that can print out a board. Set up your board as a list,\n",
    "#where each index 1-9 corresponds with a number on a number pad, so you get a 3 by 3 board representation.\n",
    "\n",
    "from IPython.display import clear_output\n",
    "arr = [0,7,8,9,4,5,6,1,2,3]\n",
    "blank_arr = [\"#\"]+[' ']*9\n",
    "def display_board(board):\n",
    "\n",
    "    print('Use your numpad as a location guide\\n')\n",
    "    print('   ', arr[1:4], '\\n   ',arr[4:7],'\\n   ',arr[7:10],'\\n\\n')\n",
    "    print('    S T A R T')\n",
    "    print('', board[1:4], '\\n',board[4:7],'\\n',board[7:10])\n",
    "    \n",
    "    #return board\n",
    "    \n",
    "#TEST Step 1: run your function on a test version of the board list, and make adjustments as necessary\n",
    "\n",
    "display_board(blank_arr)"
   ]
  },
  {
   "cell_type": "code",
   "execution_count": 1086,
   "id": "23efd0eb",
   "metadata": {},
   "outputs": [
    {
     "name": "stdout",
     "output_type": "stream",
     "text": [
      "Where do you want to go, 1-9 7\n",
      "1 here\n",
      "Enter X or O: x\n"
     ]
    },
    {
     "data": {
      "text/plain": [
       "('X', 1)"
      ]
     },
     "execution_count": 1086,
     "metadata": {},
     "output_type": "execute_result"
    }
   ],
   "source": [
    "#Step 2: Write a function that can take in a player input and assign their marker as 'X' or 'O'. Think about using while loops to continually ask until you get a correct answer.\n",
    "\n",
    "def player_input():\n",
    "    is_x_o = False\n",
    "    is_1_9 = False\n",
    "    while not is_1_9: #this while loop validates that the number is btwn 1-9\n",
    "        user_choice = int(input('Where do you want to go, 1-9 '))\n",
    "        if user_choice in range(1,10):\n",
    "            is_1_9 = True\n",
    "        else:\n",
    "            print('Try again \\n')\n",
    "    placeholder = arr.index(user_choice)\n",
    "    \n",
    "    while not is_x_o: #this while loop validates that the user input either an 'x' or an 'o' and returns the input value and pos\n",
    "        arr2[placeholder] = input('Enter X or O: ').upper()\n",
    "        if arr2[placeholder] == 'X' or arr2[placeholder] == 'O':\n",
    "            marker = arr2[placeholder]\n",
    "            position = arr.index(user_choice)\n",
    "            is_x_o = True\n",
    "            #print((arr2)[placeholder], arr.index(user_choice), 'here')\n",
    "            return marker,position #returns the players position and x or o\n",
    "\n",
    "#TEST Step 2: run the function to make sure it returns the desired output\n",
    "player_input()"
   ]
  },
  {
   "cell_type": "code",
   "execution_count": 1120,
   "id": "16b8799d",
   "metadata": {},
   "outputs": [
    {
     "name": "stdout",
     "output_type": "stream",
     "text": [
      "[' ', ' ', 'xx']\n",
      "[' ', 'xx', '$']\n",
      "['xx', 'A', 'X']\n"
     ]
    }
   ],
   "source": [
    "## Step 3: Write a function that takes in the board list object, a marker ('X' or 'O'), and a desired position (number 1-9) and assigns it to the board.\n",
    "\n",
    "#print(marker,position)\n",
    "def place_marker(board,marker,position):\n",
    "    board[position] = marker\n",
    "    print(board[1:4])\n",
    "    print(board[4:7])\n",
    "    print(board[7:10])\n",
    "#TEST Step 3: run the place marker function using test parameters and display the modified board\n",
    "\n",
    "place_marker(blank_arr,marker,position)\n",
    "#display_board(test_board)"
   ]
  },
  {
   "cell_type": "code",
   "execution_count": 1510,
   "id": "5405271e",
   "metadata": {},
   "outputs": [
    {
     "name": "stdout",
     "output_type": "stream",
     "text": [
      "You win right diagonally!\n"
     ]
    },
    {
     "data": {
      "text/plain": [
       "True"
      ]
     },
     "execution_count": 1510,
     "metadata": {},
     "output_type": "execute_result"
    }
   ],
   "source": [
    "#Step 4: Write a function that takes in a board and a mark (X or O) and then checks to see if that mark has won.\n",
    "test_board = ['#','X','O','X','O','X',' ','X','O','X']\n",
    "\n",
    "\n",
    "def win_check(board, mark):\n",
    "    result = False\n",
    "    for index,letter in enumerate(board):\n",
    "        #horizontal wins\n",
    "        if mark in board[1] and mark in board[2] and mark in board[3]: #horizontal rows\n",
    "            print('You win horizontally (bottom) !')\n",
    "            return True\n",
    "        elif mark in board[4] and mark in board[5] and mark in board[6]: #vertical colums\n",
    "            print('You win horizontally (middle)!')\n",
    "            return True\n",
    "        elif mark in board[7] and mark in board[8] and mark in board[9]: #vertical colums\n",
    "            print('You win horizontally (top)! ')\n",
    "            return True\n",
    "        \n",
    "        #vertical wins\n",
    "        elif mark in board[1] and mark in board[4] and mark in board[7]:\n",
    "            print('You win vertically (left)! ')\n",
    "            return True\n",
    "        elif mark in board[2] and mark in board[5] and mark in board[8]:\n",
    "            print('You win vertically (middle)! ')\n",
    "            return True\n",
    "        elif mark in board[3] and mark in board[6] and mark in board[9]:\n",
    "            print('You win vertically (right)! ')\n",
    "            return True\n",
    "        \n",
    "        #diagonals\n",
    "        elif mark in board[1] and mark in board[5] and mark in board[9]: \n",
    "            print('You win right diagonally!')\n",
    "            return True\n",
    "        elif mark in board[3] and mark in board[5] and mark in board[7]: \n",
    "            print('You win left diagonally!')\n",
    "            return True\n",
    "        else:\n",
    "            continue\n",
    "\n",
    "win_check(test_board,'X')"
   ]
  },
  {
   "cell_type": "code",
   "execution_count": 1419,
   "id": "0c988eac",
   "metadata": {},
   "outputs": [
    {
     "name": "stdout",
     "output_type": "stream",
     "text": [
      "Use your numpad as a location guide\n",
      "\n",
      "    [7, 8, 9] \n",
      "    [4, 5, 6] \n",
      "    [1, 2, 3] \n",
      "\n",
      "\n",
      "    S T A R T\n",
      " ['O', ' ', 'O'] \n",
      " [' ', 'X', ' '] \n",
      " ['X', ' ', 'X']\n",
      "None\n",
      "You win left diagonally!\n"
     ]
    },
    {
     "data": {
      "text/plain": [
       "True"
      ]
     },
     "execution_count": 1419,
     "metadata": {},
     "output_type": "execute_result"
    }
   ],
   "source": [
    "blank_arr = ['#','O',' ','O',' ','X',' ','X',' ','X']\n",
    "print(display_board(blank_arr))\n",
    "win_check(blank_arr,'X')"
   ]
  },
  {
   "cell_type": "code",
   "execution_count": 1052,
   "id": "8799fe4f",
   "metadata": {},
   "outputs": [
    {
     "name": "stdout",
     "output_type": "stream",
     "text": [
      "Player 1 will go first.\n"
     ]
    },
    {
     "data": {
      "text/plain": [
       "'Player 1 will go first: '"
      ]
     },
     "execution_count": 1052,
     "metadata": {},
     "output_type": "execute_result"
    }
   ],
   "source": [
    "#Step 5: Write a function that uses the random module to randomly decide which player goes first. You may want to lookup random.randint() Return a string of which player went first.\n",
    "import random\n",
    "randnum = random.randint(1,2)\n",
    "def choose_first():\n",
    "    print('Player {} will go first.'.format(randnum))\n",
    "    result = 'Player {} will go first: '.format(randnum)\n",
    "    return result\n",
    "choose_first()"
   ]
  },
  {
   "cell_type": "code",
   "execution_count": 1249,
   "id": "60ab359c",
   "metadata": {},
   "outputs": [
    {
     "data": {
      "text/plain": [
       "True"
      ]
     },
     "execution_count": 1249,
     "metadata": {},
     "output_type": "execute_result"
    }
   ],
   "source": [
    "#Step 6: Write a function that returns a boolean indicating whether a space on the board is freely available.\n",
    "\n",
    "def space_check(board, position):\n",
    "    is_blank = False\n",
    "    if board[position] == ' ':\n",
    "        is_blank = True\n",
    "    return is_blank\n",
    "\n",
    "space_check(blank_arr,4)"
   ]
  },
  {
   "cell_type": "code",
   "execution_count": 1351,
   "id": "63d4ae9e",
   "metadata": {},
   "outputs": [
    {
     "data": {
      "text/plain": [
       "True"
      ]
     },
     "execution_count": 1351,
     "metadata": {},
     "output_type": "execute_result"
    }
   ],
   "source": [
    "#Step 7: Write a function that checks if the board is full and returns a boolean value. True if full, False otherwise.\n",
    "test_board = ['#','X','X','X','O','X','O','X','O','X']\n",
    "def full_board_check(board):\n",
    "    is_full = True\n",
    "    while is_full:\n",
    "        for index,item in enumerate(board):\n",
    "            is_full = not space_check(board,index)\n",
    "            if is_full == False:\n",
    "                return is_full\n",
    "        return is_full\n",
    "            \n",
    "full_board_check(test_board)"
   ]
  },
  {
   "cell_type": "code",
   "execution_count": 1302,
   "id": "3abd436e",
   "metadata": {},
   "outputs": [
    {
     "name": "stdout",
     "output_type": "stream",
     "text": [
      "['#', ' ', ' ', ' ', ' ', ' ', ' ', 'X', ' ', ' ']\n",
      "Where do you want to go next? 1-9: \n",
      " x\n"
     ]
    },
    {
     "ename": "ValueError",
     "evalue": "invalid literal for int() with base 10: 'x'",
     "output_type": "error",
     "traceback": [
      "\u001b[1;31m---------------------------------------------------------------------------\u001b[0m",
      "\u001b[1;31mValueError\u001b[0m                                Traceback (most recent call last)",
      "Input \u001b[1;32mIn [1302]\u001b[0m, in \u001b[0;36m<cell line: 13>\u001b[1;34m()\u001b[0m\n\u001b[0;32m     10\u001b[0m     position \u001b[38;5;241m=\u001b[39m arr\u001b[38;5;241m.\u001b[39mindex(choice)\n\u001b[0;32m     12\u001b[0m     \u001b[38;5;28;01mreturn\u001b[39;00m position\n\u001b[1;32m---> 13\u001b[0m \u001b[43mnext_choice\u001b[49m\u001b[43m(\u001b[49m\u001b[43mblank_arr\u001b[49m\u001b[43m)\u001b[49m\n",
      "Input \u001b[1;32mIn [1302]\u001b[0m, in \u001b[0;36mnext_choice\u001b[1;34m(board)\u001b[0m\n\u001b[0;32m      4\u001b[0m \u001b[38;5;28;01mdef\u001b[39;00m \u001b[38;5;21mnext_choice\u001b[39m(board):\n\u001b[1;32m----> 5\u001b[0m     choice \u001b[38;5;241m=\u001b[39m \u001b[38;5;28;43mint\u001b[39;49m\u001b[43m(\u001b[49m\u001b[38;5;28;43minput\u001b[39;49m\u001b[43m(\u001b[49m\u001b[38;5;124;43m'\u001b[39;49m\u001b[38;5;124;43mWhere do you want to go next? 1-9: \u001b[39;49m\u001b[38;5;130;43;01m\\n\u001b[39;49;00m\u001b[38;5;124;43m \u001b[39;49m\u001b[38;5;124;43m'\u001b[39;49m\u001b[43m)\u001b[49m\u001b[43m)\u001b[49m\n\u001b[0;32m      6\u001b[0m     \u001b[38;5;28;01mwhile\u001b[39;00m \u001b[38;5;129;01mnot\u001b[39;00m space_check(board,choice): \u001b[38;5;66;03m#lets say we picked 9, that would be position 3 on our numpad, so we need to return 3\u001b[39;00m\n\u001b[0;32m      7\u001b[0m         choice \u001b[38;5;241m=\u001b[39m \u001b[38;5;28mint\u001b[39m(\u001b[38;5;28minput\u001b[39m(\u001b[38;5;124m'\u001b[39m\u001b[38;5;124mThat space is not available, Where do you want to go next? 1-9: \u001b[39m\u001b[38;5;124m'\u001b[39m))\n",
      "\u001b[1;31mValueError\u001b[0m: invalid literal for int() with base 10: 'x'"
     ]
    }
   ],
   "source": [
    "#Step 8: Write a function that asks for a player's next position (as a number 1-9) and then uses the function from step 6 to check if it's a free position. If it is, then return the position for later use.\n",
    "print(blank_arr)\n",
    "arr = [0,7,8,9,4,5,6,1,2,3]\n",
    "def next_choice(board):\n",
    "    choice = int(input('Where do you want to go next? 1-9: \\n '))\n",
    "    while not space_check(board,choice): #lets say we picked 9, that would be position 3 on our numpad, so we need to return 3\n",
    "        choice = int(input('That space is not available, Where do you want to go next? 1-9: '))\n",
    "        space_check(board,choice)\n",
    "\n",
    "    position = arr.index(choice)\n",
    "\n",
    "    return position\n",
    "next_choice(blank_arr)"
   ]
  },
  {
   "cell_type": "code",
   "execution_count": 1404,
   "id": "7aa8ad80",
   "metadata": {},
   "outputs": [
    {
     "name": "stdout",
     "output_type": "stream",
     "text": [
      "Do you want to play again? Y or N? n\n"
     ]
    },
    {
     "data": {
      "text/plain": [
       "False"
      ]
     },
     "execution_count": 1404,
     "metadata": {},
     "output_type": "execute_result"
    }
   ],
   "source": [
    "#Step 9: Write a function that asks the player if they want to play again and returns a boolean True if they do want to play again.\n",
    "\n",
    "def replay():\n",
    "    #ask to play\n",
    "    again = False\n",
    "    choice = input('Do you want to play again? Y or N? ').upper()\n",
    "    if choice == 'Y':\n",
    "        return True\n",
    "    while choice != 'Y' and choice != 'N':\n",
    "        print('Please give a valid answer.')\n",
    "        choice = input('Do you want to play again? Y or N? ').upper()\n",
    "        if choice == 'Y':\n",
    "            again = True\n",
    "        elif choice == 'N':\n",
    "\n",
    "            again = False\n",
    "    return again\n",
    "replay()"
   ]
  },
  {
   "cell_type": "code",
   "execution_count": 1099,
   "id": "d0920d31",
   "metadata": {},
   "outputs": [],
   "source": [
    "def clear_board(board):\n",
    "    board = [\"#\"]+[' ']*9\n",
    "    return board"
   ]
  },
  {
   "cell_type": "code",
   "execution_count": 1041,
   "id": "13dfaaac",
   "metadata": {},
   "outputs": [
    {
     "name": "stdout",
     "output_type": "stream",
     "text": [
      "Do you want to be X or O x\n"
     ]
    },
    {
     "data": {
      "text/plain": [
       "('X', 'O')"
      ]
     },
     "execution_count": 1041,
     "metadata": {},
     "output_type": "execute_result"
    }
   ],
   "source": [
    "#REDOS Step 2: Write a function that can take in a player input and assign their marker as 'X' or 'O'. Think about using while loops to continually ask until you get a correct answer.\n",
    "\n",
    "def player_input2():\n",
    "    choices = ['X','O']\n",
    "    #assign value from list to player, remove that value, assign last value to other player\n",
    "    is_x_o = False\n",
    "    while not is_x_o: #this while loop validates that the user input either an 'x' or an 'o' and returns the input value\n",
    "        p1 = input('Do you want to be X or O ').upper()\n",
    "        p2 = ''\n",
    "        if p1 == 'X' or p1 == 'O':\n",
    "            choices.remove(p1)\n",
    "            p2 = choices[0]\n",
    "            is_x_o = True\n",
    "            return p1,p2 #returns the mark that each player will be\n",
    "\n",
    "#TEST Step 2: run the function to make sure it returns the desired output\n",
    "player_input2()"
   ]
  },
  {
   "cell_type": "code",
   "execution_count": 1410,
   "id": "7c36f3a2",
   "metadata": {},
   "outputs": [],
   "source": [
    "blank_arr = clear_board(blank_arr)"
   ]
  },
  {
   "cell_type": "code",
   "execution_count": 1284,
   "id": "1e221dee",
   "metadata": {},
   "outputs": [
    {
     "name": "stdout",
     "output_type": "stream",
     "text": [
      "Where do you want to go next? 1-9: 7\n",
      "['X', ' ', ' ']\n",
      "[' ', ' ', ' ']\n",
      "[' ', ' ', ' ']\n"
     ]
    }
   ],
   "source": [
    "## REDO Step 3: Write a function that takes in the board list object, a marker ('X' or 'O'), \n",
    "#and a desired position (number 1-9) and assigns it to the board.\n",
    "\n",
    "#print(marker,position)\n",
    "blank_arr = clear_board(blank_arr)\n",
    "def place_marker2(board,marker,position):\n",
    "    user_choice = position\n",
    "    \n",
    "    in_range = False\n",
    "    while not in_range: #this while loop validates that the number is btwn 1-9\n",
    "        if position in range(1,10):\n",
    "            break\n",
    "        else:\n",
    "            user_choice = int(input('Sorry, Where do you want to go, 1-9 '))\n",
    "            if user_choice in range(1,10):\n",
    "                break\n",
    " \n",
    "    #placeholder = arr.index(user_choice)\n",
    "    #replace the string with the persons mark\n",
    "    arr2[position] = marker\n",
    "    if arr2[position] == 'X' or arr2[position] == 'O':\n",
    "        marker = arr2[position]\n",
    "        position = arr.index(user_choice)\n",
    "    \n",
    "    board[position] = marker\n",
    "\n",
    "    print(board[7:10])\n",
    "    print(board[4:7])\n",
    "    print(board[1:4])\n",
    "\n",
    "#TEST Step 3: run the place marker function using test parameters and display the modified board\n",
    "place_marker2(blank_arr,'X',next_choice(blank_arr))\n",
    "\n",
    "#display_board(test_board)"
   ]
  },
  {
   "cell_type": "code",
   "execution_count": 1563,
   "id": "6db06d1d",
   "metadata": {},
   "outputs": [],
   "source": [
    "#Step 10: Here comes the hard part! Use while loops and the functions you've made to run the game!\n",
    "def tic_tac_toe():\n",
    "    \n",
    "    print('Welcome to Tic Tac Toe!\\n')\n",
    "    \n",
    "    #variables\n",
    "    game_board = clear_board(blank_arr)\n",
    "   # print(game_board)\n",
    "    \n",
    "    #functions\n",
    "    choose_first() #prints who will go first\n",
    "    display_board(game_board) #displays empty board, p1 is actually just first choice so i\n",
    "    \n",
    "    playerlist = player_input2()\n",
    "    first_player = playerlist[0] \n",
    "    second_player = playerlist[1] # should print mark of second player\n",
    "    playerdict = {first_player:1,second_player:2}\n",
    "    is_win_x = False\n",
    "    is_win_o = False\n",
    "    is_full = False\n",
    "    \n",
    "    while not is_win_x and not is_win_o or not is_full: #try to get the marker from playerlist\n",
    "        \n",
    "        for key,values in playerdict.items():\n",
    "            \n",
    "            place_marker2 (game_board,key,next_choice(game_board))\n",
    "            is_win_x = win_check(game_board,'X')\n",
    "            is_win_o = win_check(game_board,'O')\n",
    "            is_full = full_board_check(game_board)\n",
    "                \n",
    "            if is_win_x == True:\n",
    "                print('X is winner ')\n",
    "                break\n",
    "            \n",
    "            elif is_win_o == True:\n",
    "                print('O is winner ')\n",
    "                break\n",
    "            elif is_full == True:\n",
    "                print('Board is full')\n",
    "                break\n",
    "        if is_win_x or is_win_o or is_full:\n",
    "            break\n",
    "        \n",
    "    play_again = replay()\n",
    "    if play_again == True:\n",
    "        tic_tac_toe()\n",
    "    elif play_again == False:\n",
    "        pass\n",
    "                  \n",
    "    #replay\n"
   ]
  },
  {
   "cell_type": "code",
   "execution_count": 1565,
   "id": "c5c3ae48",
   "metadata": {
    "scrolled": true
   },
   "outputs": [
    {
     "name": "stdout",
     "output_type": "stream",
     "text": [
      "Welcome to Tic Tac Toe!\n",
      "\n",
      "Player 1 will go first.\n",
      "Use your numpad as a location guide\n",
      "\n",
      "    [7, 8, 9] \n",
      "    [4, 5, 6] \n",
      "    [1, 2, 3] \n",
      "\n",
      "\n",
      "    S T A R T\n",
      " [' ', ' ', ' '] \n",
      " [' ', ' ', ' '] \n",
      " [' ', ' ', ' ']\n",
      "Do you want to be X or O 1\n",
      "Do you want to be X or O x\n",
      "Where do you want to go next? 1-9: \n",
      " 1\n",
      "[' ', ' ', ' ']\n",
      "[' ', ' ', ' ']\n",
      "['X', ' ', ' ']\n",
      "Where do you want to go next? 1-9: \n",
      " 2\n",
      "[' ', ' ', ' ']\n",
      "[' ', ' ', ' ']\n",
      "['X', 'O', ' ']\n",
      "Where do you want to go next? 1-9: \n",
      " 4\n",
      "[' ', ' ', ' ']\n",
      "['X', ' ', ' ']\n",
      "['X', 'O', ' ']\n",
      "Where do you want to go next? 1-9: \n",
      " 5\n",
      "[' ', ' ', ' ']\n",
      "['X', 'O', ' ']\n",
      "['X', 'O', ' ']\n",
      "Where do you want to go next? 1-9: \n",
      " 7\n",
      "['X', ' ', ' ']\n",
      "['X', 'O', ' ']\n",
      "['X', 'O', ' ']\n",
      "You win vertically (left)! \n",
      "X is winner \n",
      "Do you want to play again? Y or N? y\n",
      "Welcome to Tic Tac Toe!\n",
      "\n",
      "Player 1 will go first.\n",
      "Use your numpad as a location guide\n",
      "\n",
      "    [7, 8, 9] \n",
      "    [4, 5, 6] \n",
      "    [1, 2, 3] \n",
      "\n",
      "\n",
      "    S T A R T\n",
      " [' ', ' ', ' '] \n",
      " [' ', ' ', ' '] \n",
      " [' ', ' ', ' ']\n",
      "Do you want to be X or O 2\n",
      "Do you want to be X or O 1\n",
      "Do you want to be X or O o\n",
      "Where do you want to go next? 1-9: \n",
      " \n"
     ]
    },
    {
     "ename": "ValueError",
     "evalue": "invalid literal for int() with base 10: ''",
     "output_type": "error",
     "traceback": [
      "\u001b[1;31m---------------------------------------------------------------------------\u001b[0m",
      "\u001b[1;31mValueError\u001b[0m                                Traceback (most recent call last)",
      "Input \u001b[1;32mIn [1565]\u001b[0m, in \u001b[0;36m<cell line: 1>\u001b[1;34m()\u001b[0m\n\u001b[1;32m----> 1\u001b[0m \u001b[43mtic_tac_toe\u001b[49m\u001b[43m(\u001b[49m\u001b[43m)\u001b[49m\n",
      "Input \u001b[1;32mIn [1563]\u001b[0m, in \u001b[0;36mtic_tac_toe\u001b[1;34m()\u001b[0m\n\u001b[0;32m     44\u001b[0m play_again \u001b[38;5;241m=\u001b[39m replay()\n\u001b[0;32m     45\u001b[0m \u001b[38;5;28;01mif\u001b[39;00m play_again \u001b[38;5;241m==\u001b[39m \u001b[38;5;28;01mTrue\u001b[39;00m:\n\u001b[1;32m---> 46\u001b[0m     \u001b[43mtic_tac_toe\u001b[49m\u001b[43m(\u001b[49m\u001b[43m)\u001b[49m\n\u001b[0;32m     47\u001b[0m \u001b[38;5;28;01melif\u001b[39;00m play_again \u001b[38;5;241m==\u001b[39m \u001b[38;5;28;01mFalse\u001b[39;00m:\n\u001b[0;32m     48\u001b[0m     \u001b[38;5;28;01mpass\u001b[39;00m\n",
      "Input \u001b[1;32mIn [1563]\u001b[0m, in \u001b[0;36mtic_tac_toe\u001b[1;34m()\u001b[0m\n\u001b[0;32m     22\u001b[0m \u001b[38;5;28;01mwhile\u001b[39;00m \u001b[38;5;129;01mnot\u001b[39;00m is_win_x \u001b[38;5;129;01mand\u001b[39;00m \u001b[38;5;129;01mnot\u001b[39;00m is_win_o \u001b[38;5;129;01mor\u001b[39;00m \u001b[38;5;129;01mnot\u001b[39;00m is_full: \u001b[38;5;66;03m#try to get the marker from playerlist\u001b[39;00m\n\u001b[0;32m     24\u001b[0m     \u001b[38;5;28;01mfor\u001b[39;00m key,values \u001b[38;5;129;01min\u001b[39;00m playerdict\u001b[38;5;241m.\u001b[39mitems():\n\u001b[1;32m---> 26\u001b[0m         place_marker2 (game_board,key,\u001b[43mnext_choice\u001b[49m\u001b[43m(\u001b[49m\u001b[43mgame_board\u001b[49m\u001b[43m)\u001b[49m)\n\u001b[0;32m     27\u001b[0m         is_win_x \u001b[38;5;241m=\u001b[39m win_check(game_board,\u001b[38;5;124m'\u001b[39m\u001b[38;5;124mX\u001b[39m\u001b[38;5;124m'\u001b[39m)\n\u001b[0;32m     28\u001b[0m         is_win_o \u001b[38;5;241m=\u001b[39m win_check(game_board,\u001b[38;5;124m'\u001b[39m\u001b[38;5;124mO\u001b[39m\u001b[38;5;124m'\u001b[39m)\n",
      "Input \u001b[1;32mIn [1302]\u001b[0m, in \u001b[0;36mnext_choice\u001b[1;34m(board)\u001b[0m\n\u001b[0;32m      4\u001b[0m \u001b[38;5;28;01mdef\u001b[39;00m \u001b[38;5;21mnext_choice\u001b[39m(board):\n\u001b[1;32m----> 5\u001b[0m     choice \u001b[38;5;241m=\u001b[39m \u001b[38;5;28;43mint\u001b[39;49m\u001b[43m(\u001b[49m\u001b[38;5;28;43minput\u001b[39;49m\u001b[43m(\u001b[49m\u001b[38;5;124;43m'\u001b[39;49m\u001b[38;5;124;43mWhere do you want to go next? 1-9: \u001b[39;49m\u001b[38;5;130;43;01m\\n\u001b[39;49;00m\u001b[38;5;124;43m \u001b[39;49m\u001b[38;5;124;43m'\u001b[39;49m\u001b[43m)\u001b[49m\u001b[43m)\u001b[49m\n\u001b[0;32m      6\u001b[0m     \u001b[38;5;28;01mwhile\u001b[39;00m \u001b[38;5;129;01mnot\u001b[39;00m space_check(board,choice): \u001b[38;5;66;03m#lets say we picked 9, that would be position 3 on our numpad, so we need to return 3\u001b[39;00m\n\u001b[0;32m      7\u001b[0m         choice \u001b[38;5;241m=\u001b[39m \u001b[38;5;28mint\u001b[39m(\u001b[38;5;28minput\u001b[39m(\u001b[38;5;124m'\u001b[39m\u001b[38;5;124mThat space is not available, Where do you want to go next? 1-9: \u001b[39m\u001b[38;5;124m'\u001b[39m))\n",
      "\u001b[1;31mValueError\u001b[0m: invalid literal for int() with base 10: ''"
     ]
    }
   ],
   "source": [
    "tic_tac_toe()"
   ]
  }
 ],
 "metadata": {
  "kernelspec": {
   "display_name": "Python 3 (ipykernel)",
   "language": "python",
   "name": "python3"
  },
  "language_info": {
   "codemirror_mode": {
    "name": "ipython",
    "version": 3
   },
   "file_extension": ".py",
   "mimetype": "text/x-python",
   "name": "python",
   "nbconvert_exporter": "python",
   "pygments_lexer": "ipython3",
   "version": "3.9.12"
  }
 },
 "nbformat": 4,
 "nbformat_minor": 5
}
